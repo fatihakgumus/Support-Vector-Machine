{
 "cells": [
  {
   "cell_type": "markdown",
   "metadata": {},
   "source": [
    "# SVM"
   ]
  },
  {
   "cell_type": "code",
   "execution_count": 1,
   "metadata": {},
   "outputs": [],
   "source": [
    "import pandas as pd\n",
    "import numpy as np\n",
    "import matplotlib.pyplot as plt\n",
    "import seaborn as sns\n",
    "%matplotlib inline\n",
    "import warnings\n",
    "warnings.filterwarnings('ignore')"
   ]
  },
  {
   "cell_type": "code",
   "execution_count": 2,
   "metadata": {},
   "outputs": [],
   "source": [
    "from sklearn.datasets import load_breast_cancer"
   ]
  },
  {
   "cell_type": "code",
   "execution_count": 3,
   "metadata": {},
   "outputs": [],
   "source": [
    "cancer = load_breast_cancer()"
   ]
  },
  {
   "cell_type": "code",
   "execution_count": 4,
   "metadata": {},
   "outputs": [
    {
     "data": {
      "text/plain": [
       "dict_keys(['data', 'target', 'frame', 'target_names', 'DESCR', 'feature_names', 'filename'])"
      ]
     },
     "execution_count": 4,
     "metadata": {},
     "output_type": "execute_result"
    }
   ],
   "source": [
    "cancer.keys()"
   ]
  },
  {
   "cell_type": "code",
   "execution_count": 5,
   "metadata": {},
   "outputs": [
    {
     "name": "stdout",
     "output_type": "stream",
     "text": [
      ".. _breast_cancer_dataset:\n",
      "\n",
      "Breast cancer wisconsin (diagnostic) dataset\n",
      "--------------------------------------------\n",
      "\n",
      "**Data Set Characteristics:**\n",
      "\n",
      "    :Number of Instances: 569\n",
      "\n",
      "    :Number of Attributes: 30 numeric, predictive attributes and the class\n",
      "\n",
      "    :Attribute Information:\n",
      "        - radius (mean of distances from center to points on the perimeter)\n",
      "        - texture (standard deviation of gray-scale values)\n",
      "        - perimeter\n",
      "        - area\n",
      "        - smoothness (local variation in radius lengths)\n",
      "        - compactness (perimeter^2 / area - 1.0)\n",
      "        - concavity (severity of concave portions of the contour)\n",
      "        - concave points (number of concave portions of the contour)\n",
      "        - symmetry\n",
      "        - fractal dimension (\"coastline approximation\" - 1)\n",
      "\n",
      "        The mean, standard error, and \"worst\" or largest (mean of the three\n",
      "        worst/largest values) of these features were computed for each image,\n",
      "        resulting in 30 features.  For instance, field 0 is Mean Radius, field\n",
      "        10 is Radius SE, field 20 is Worst Radius.\n",
      "\n",
      "        - class:\n",
      "                - WDBC-Malignant\n",
      "                - WDBC-Benign\n",
      "\n",
      "    :Summary Statistics:\n",
      "\n",
      "    ===================================== ====== ======\n",
      "                                           Min    Max\n",
      "    ===================================== ====== ======\n",
      "    radius (mean):                        6.981  28.11\n",
      "    texture (mean):                       9.71   39.28\n",
      "    perimeter (mean):                     43.79  188.5\n",
      "    area (mean):                          143.5  2501.0\n",
      "    smoothness (mean):                    0.053  0.163\n",
      "    compactness (mean):                   0.019  0.345\n",
      "    concavity (mean):                     0.0    0.427\n",
      "    concave points (mean):                0.0    0.201\n",
      "    symmetry (mean):                      0.106  0.304\n",
      "    fractal dimension (mean):             0.05   0.097\n",
      "    radius (standard error):              0.112  2.873\n",
      "    texture (standard error):             0.36   4.885\n",
      "    perimeter (standard error):           0.757  21.98\n",
      "    area (standard error):                6.802  542.2\n",
      "    smoothness (standard error):          0.002  0.031\n",
      "    compactness (standard error):         0.002  0.135\n",
      "    concavity (standard error):           0.0    0.396\n",
      "    concave points (standard error):      0.0    0.053\n",
      "    symmetry (standard error):            0.008  0.079\n",
      "    fractal dimension (standard error):   0.001  0.03\n",
      "    radius (worst):                       7.93   36.04\n",
      "    texture (worst):                      12.02  49.54\n",
      "    perimeter (worst):                    50.41  251.2\n",
      "    area (worst):                         185.2  4254.0\n",
      "    smoothness (worst):                   0.071  0.223\n",
      "    compactness (worst):                  0.027  1.058\n",
      "    concavity (worst):                    0.0    1.252\n",
      "    concave points (worst):               0.0    0.291\n",
      "    symmetry (worst):                     0.156  0.664\n",
      "    fractal dimension (worst):            0.055  0.208\n",
      "    ===================================== ====== ======\n",
      "\n",
      "    :Missing Attribute Values: None\n",
      "\n",
      "    :Class Distribution: 212 - Malignant, 357 - Benign\n",
      "\n",
      "    :Creator:  Dr. William H. Wolberg, W. Nick Street, Olvi L. Mangasarian\n",
      "\n",
      "    :Donor: Nick Street\n",
      "\n",
      "    :Date: November, 1995\n",
      "\n",
      "This is a copy of UCI ML Breast Cancer Wisconsin (Diagnostic) datasets.\n",
      "https://goo.gl/U2Uwz2\n",
      "\n",
      "Features are computed from a digitized image of a fine needle\n",
      "aspirate (FNA) of a breast mass.  They describe\n",
      "characteristics of the cell nuclei present in the image.\n",
      "\n",
      "Separating plane described above was obtained using\n",
      "Multisurface Method-Tree (MSM-T) [K. P. Bennett, \"Decision Tree\n",
      "Construction Via Linear Programming.\" Proceedings of the 4th\n",
      "Midwest Artificial Intelligence and Cognitive Science Society,\n",
      "pp. 97-101, 1992], a classification method which uses linear\n",
      "programming to construct a decision tree.  Relevant features\n",
      "were selected using an exhaustive search in the space of 1-4\n",
      "features and 1-3 separating planes.\n",
      "\n",
      "The actual linear program used to obtain the separating plane\n",
      "in the 3-dimensional space is that described in:\n",
      "[K. P. Bennett and O. L. Mangasarian: \"Robust Linear\n",
      "Programming Discrimination of Two Linearly Inseparable Sets\",\n",
      "Optimization Methods and Software 1, 1992, 23-34].\n",
      "\n",
      "This database is also available through the UW CS ftp server:\n",
      "\n",
      "ftp ftp.cs.wisc.edu\n",
      "cd math-prog/cpo-dataset/machine-learn/WDBC/\n",
      "\n",
      ".. topic:: References\n",
      "\n",
      "   - W.N. Street, W.H. Wolberg and O.L. Mangasarian. Nuclear feature extraction \n",
      "     for breast tumor diagnosis. IS&T/SPIE 1993 International Symposium on \n",
      "     Electronic Imaging: Science and Technology, volume 1905, pages 861-870,\n",
      "     San Jose, CA, 1993.\n",
      "   - O.L. Mangasarian, W.N. Street and W.H. Wolberg. Breast cancer diagnosis and \n",
      "     prognosis via linear programming. Operations Research, 43(4), pages 570-577, \n",
      "     July-August 1995.\n",
      "   - W.H. Wolberg, W.N. Street, and O.L. Mangasarian. Machine learning techniques\n",
      "     to diagnose breast cancer from fine-needle aspirates. Cancer Letters 77 (1994) \n",
      "     163-171.\n"
     ]
    }
   ],
   "source": [
    "print(cancer[\"DESCR\"])"
   ]
  },
  {
   "cell_type": "code",
   "execution_count": 6,
   "metadata": {},
   "outputs": [
    {
     "data": {
      "text/plain": [
       "array(['mean radius', 'mean texture', 'mean perimeter', 'mean area',\n",
       "       'mean smoothness', 'mean compactness', 'mean concavity',\n",
       "       'mean concave points', 'mean symmetry', 'mean fractal dimension',\n",
       "       'radius error', 'texture error', 'perimeter error', 'area error',\n",
       "       'smoothness error', 'compactness error', 'concavity error',\n",
       "       'concave points error', 'symmetry error',\n",
       "       'fractal dimension error', 'worst radius', 'worst texture',\n",
       "       'worst perimeter', 'worst area', 'worst smoothness',\n",
       "       'worst compactness', 'worst concavity', 'worst concave points',\n",
       "       'worst symmetry', 'worst fractal dimension'], dtype='<U23')"
      ]
     },
     "execution_count": 6,
     "metadata": {},
     "output_type": "execute_result"
    }
   ],
   "source": [
    "cancer['feature_names']"
   ]
  },
  {
   "cell_type": "code",
   "execution_count": 7,
   "metadata": {},
   "outputs": [
    {
     "name": "stdout",
     "output_type": "stream",
     "text": [
      "<class 'pandas.core.frame.DataFrame'>\n",
      "RangeIndex: 569 entries, 0 to 568\n",
      "Data columns (total 30 columns):\n",
      " #   Column                   Non-Null Count  Dtype  \n",
      "---  ------                   --------------  -----  \n",
      " 0   mean radius              569 non-null    float64\n",
      " 1   mean texture             569 non-null    float64\n",
      " 2   mean perimeter           569 non-null    float64\n",
      " 3   mean area                569 non-null    float64\n",
      " 4   mean smoothness          569 non-null    float64\n",
      " 5   mean compactness         569 non-null    float64\n",
      " 6   mean concavity           569 non-null    float64\n",
      " 7   mean concave points      569 non-null    float64\n",
      " 8   mean symmetry            569 non-null    float64\n",
      " 9   mean fractal dimension   569 non-null    float64\n",
      " 10  radius error             569 non-null    float64\n",
      " 11  texture error            569 non-null    float64\n",
      " 12  perimeter error          569 non-null    float64\n",
      " 13  area error               569 non-null    float64\n",
      " 14  smoothness error         569 non-null    float64\n",
      " 15  compactness error        569 non-null    float64\n",
      " 16  concavity error          569 non-null    float64\n",
      " 17  concave points error     569 non-null    float64\n",
      " 18  symmetry error           569 non-null    float64\n",
      " 19  fractal dimension error  569 non-null    float64\n",
      " 20  worst radius             569 non-null    float64\n",
      " 21  worst texture            569 non-null    float64\n",
      " 22  worst perimeter          569 non-null    float64\n",
      " 23  worst area               569 non-null    float64\n",
      " 24  worst smoothness         569 non-null    float64\n",
      " 25  worst compactness        569 non-null    float64\n",
      " 26  worst concavity          569 non-null    float64\n",
      " 27  worst concave points     569 non-null    float64\n",
      " 28  worst symmetry           569 non-null    float64\n",
      " 29  worst fractal dimension  569 non-null    float64\n",
      "dtypes: float64(30)\n",
      "memory usage: 133.5 KB\n"
     ]
    }
   ],
   "source": [
    "df_feat = pd.DataFrame(cancer['data'],columns=cancer['feature_names'])\n",
    "df_feat.info()"
   ]
  },
  {
   "cell_type": "code",
   "execution_count": 8,
   "metadata": {},
   "outputs": [
    {
     "data": {
      "text/html": [
       "<div>\n",
       "<style scoped>\n",
       "    .dataframe tbody tr th:only-of-type {\n",
       "        vertical-align: middle;\n",
       "    }\n",
       "\n",
       "    .dataframe tbody tr th {\n",
       "        vertical-align: top;\n",
       "    }\n",
       "\n",
       "    .dataframe thead th {\n",
       "        text-align: right;\n",
       "    }\n",
       "</style>\n",
       "<table border=\"1\" class=\"dataframe\">\n",
       "  <thead>\n",
       "    <tr style=\"text-align: right;\">\n",
       "      <th></th>\n",
       "      <th>Cancer</th>\n",
       "    </tr>\n",
       "  </thead>\n",
       "  <tbody>\n",
       "    <tr>\n",
       "      <th>0</th>\n",
       "      <td>0</td>\n",
       "    </tr>\n",
       "    <tr>\n",
       "      <th>1</th>\n",
       "      <td>0</td>\n",
       "    </tr>\n",
       "    <tr>\n",
       "      <th>2</th>\n",
       "      <td>0</td>\n",
       "    </tr>\n",
       "    <tr>\n",
       "      <th>3</th>\n",
       "      <td>0</td>\n",
       "    </tr>\n",
       "    <tr>\n",
       "      <th>4</th>\n",
       "      <td>0</td>\n",
       "    </tr>\n",
       "  </tbody>\n",
       "</table>\n",
       "</div>"
      ],
      "text/plain": [
       "   Cancer\n",
       "0       0\n",
       "1       0\n",
       "2       0\n",
       "3       0\n",
       "4       0"
      ]
     },
     "execution_count": 8,
     "metadata": {},
     "output_type": "execute_result"
    }
   ],
   "source": [
    "df_target = pd.DataFrame(cancer['target'],columns=['Cancer'])\n",
    "df_target.head()"
   ]
  },
  {
   "cell_type": "markdown",
   "metadata": {},
   "source": [
    "## EDA"
   ]
  },
  {
   "cell_type": "code",
   "execution_count": 9,
   "metadata": {},
   "outputs": [
    {
     "data": {
      "text/plain": [
       "<matplotlib.axes._subplots.AxesSubplot at 0xfc8c448>"
      ]
     },
     "execution_count": 9,
     "metadata": {},
     "output_type": "execute_result"
    },
    {
     "data": {
      "image/png": "[encoded data removed]",
      "text/plain": [
       "<Figure size 432x288 with 1 Axes>"
      ]
     },
     "metadata": {
      "needs_background": "light"
     },
     "output_type": "display_data"
    }
   ],
   "source": [
    "sns.countplot(df_target[\"Cancer\"])"
   ]
  },
  {
   "cell_type": "code",
   "execution_count": 10,
   "metadata": {},
   "outputs": [
    {
     "data": {
      "text/html": [
       "<div>\n",
       "<style scoped>\n",
       "    .dataframe tbody tr th:only-of-type {\n",
       "        vertical-align: middle;\n",
       "    }\n",
       "\n",
       "    .dataframe tbody tr th {\n",
       "        vertical-align: top;\n",
       "    }\n",
       "\n",
       "    .dataframe thead th {\n",
       "        text-align: right;\n",
       "    }\n",
       "</style>\n",
       "<table border=\"1\" class=\"dataframe\">\n",
       "  <thead>\n",
       "    <tr style=\"text-align: right;\">\n",
       "      <th></th>\n",
       "      <th>mean radius</th>\n",
       "      <th>mean texture</th>\n",
       "      <th>mean perimeter</th>\n",
       "      <th>mean area</th>\n",
       "      <th>mean smoothness</th>\n",
       "      <th>mean compactness</th>\n",
       "      <th>mean concavity</th>\n",
       "      <th>mean concave points</th>\n",
       "      <th>mean symmetry</th>\n",
       "      <th>mean fractal dimension</th>\n",
       "      <th>...</th>\n",
       "      <th>worst texture</th>\n",
       "      <th>worst perimeter</th>\n",
       "      <th>worst area</th>\n",
       "      <th>worst smoothness</th>\n",
       "      <th>worst compactness</th>\n",
       "      <th>worst concavity</th>\n",
       "      <th>worst concave points</th>\n",
       "      <th>worst symmetry</th>\n",
       "      <th>worst fractal dimension</th>\n",
       "      <th>Cancer</th>\n",
       "    </tr>\n",
       "  </thead>\n",
       "  <tbody>\n",
       "    <tr>\n",
       "      <th>0</th>\n",
       "      <td>17.99</td>\n",
       "      <td>10.38</td>\n",
       "      <td>122.80</td>\n",
       "      <td>1001.0</td>\n",
       "      <td>0.11840</td>\n",
       "      <td>0.27760</td>\n",
       "      <td>0.3001</td>\n",
       "      <td>0.14710</td>\n",
       "      <td>0.2419</td>\n",
       "      <td>0.07871</td>\n",
       "      <td>...</td>\n",
       "      <td>17.33</td>\n",
       "      <td>184.60</td>\n",
       "      <td>2019.0</td>\n",
       "      <td>0.1622</td>\n",
       "      <td>0.6656</td>\n",
       "      <td>0.7119</td>\n",
       "      <td>0.2654</td>\n",
       "      <td>0.4601</td>\n",
       "      <td>0.11890</td>\n",
       "      <td>0</td>\n",
       "    </tr>\n",
       "    <tr>\n",
       "      <th>1</th>\n",
       "      <td>20.57</td>\n",
       "      <td>17.77</td>\n",
       "      <td>132.90</td>\n",
       "      <td>1326.0</td>\n",
       "      <td>0.08474</td>\n",
       "      <td>0.07864</td>\n",
       "      <td>0.0869</td>\n",
       "      <td>0.07017</td>\n",
       "      <td>0.1812</td>\n",
       "      <td>0.05667</td>\n",
       "      <td>...</td>\n",
       "      <td>23.41</td>\n",
       "      <td>158.80</td>\n",
       "      <td>1956.0</td>\n",
       "      <td>0.1238</td>\n",
       "      <td>0.1866</td>\n",
       "      <td>0.2416</td>\n",
       "      <td>0.1860</td>\n",
       "      <td>0.2750</td>\n",
       "      <td>0.08902</td>\n",
       "      <td>0</td>\n",
       "    </tr>\n",
       "    <tr>\n",
       "      <th>2</th>\n",
       "      <td>19.69</td>\n",
       "      <td>21.25</td>\n",
       "      <td>130.00</td>\n",
       "      <td>1203.0</td>\n",
       "      <td>0.10960</td>\n",
       "      <td>0.15990</td>\n",
       "      <td>0.1974</td>\n",
       "      <td>0.12790</td>\n",
       "      <td>0.2069</td>\n",
       "      <td>0.05999</td>\n",
       "      <td>...</td>\n",
       "      <td>25.53</td>\n",
       "      <td>152.50</td>\n",
       "      <td>1709.0</td>\n",
       "      <td>0.1444</td>\n",
       "      <td>0.4245</td>\n",
       "      <td>0.4504</td>\n",
       "      <td>0.2430</td>\n",
       "      <td>0.3613</td>\n",
       "      <td>0.08758</td>\n",
       "      <td>0</td>\n",
       "    </tr>\n",
       "    <tr>\n",
       "      <th>3</th>\n",
       "      <td>11.42</td>\n",
       "      <td>20.38</td>\n",
       "      <td>77.58</td>\n",
       "      <td>386.1</td>\n",
       "      <td>0.14250</td>\n",
       "      <td>0.28390</td>\n",
       "      <td>0.2414</td>\n",
       "      <td>0.10520</td>\n",
       "      <td>0.2597</td>\n",
       "      <td>0.09744</td>\n",
       "      <td>...</td>\n",
       "      <td>26.50</td>\n",
       "      <td>98.87</td>\n",
       "      <td>567.7</td>\n",
       "      <td>0.2098</td>\n",
       "      <td>0.8663</td>\n",
       "      <td>0.6869</td>\n",
       "      <td>0.2575</td>\n",
       "      <td>0.6638</td>\n",
       "      <td>0.17300</td>\n",
       "      <td>0</td>\n",
       "    </tr>\n",
       "    <tr>\n",
       "      <th>4</th>\n",
       "      <td>20.29</td>\n",
       "      <td>14.34</td>\n",
       "      <td>135.10</td>\n",
       "      <td>1297.0</td>\n",
       "      <td>0.10030</td>\n",
       "      <td>0.13280</td>\n",
       "      <td>0.1980</td>\n",
       "      <td>0.10430</td>\n",
       "      <td>0.1809</td>\n",
       "      <td>0.05883</td>\n",
       "      <td>...</td>\n",
       "      <td>16.67</td>\n",
       "      <td>152.20</td>\n",
       "      <td>1575.0</td>\n",
       "      <td>0.1374</td>\n",
       "      <td>0.2050</td>\n",
       "      <td>0.4000</td>\n",
       "      <td>0.1625</td>\n",
       "      <td>0.2364</td>\n",
       "      <td>0.07678</td>\n",
       "      <td>0</td>\n",
       "    </tr>\n",
       "  </tbody>\n",
       "</table>\n",
       "<p>5 rows × 31 columns</p>\n",
       "</div>"
      ],
      "text/plain": [
       "   mean radius  mean texture  mean perimeter  mean area  mean smoothness  \\\n",
       "0        17.99         10.38          122.80     1001.0          0.11840   \n",
       "1        20.57         17.77          132.90     1326.0          0.08474   \n",
       "2        19.69         21.25          130.00     1203.0          0.10960   \n",
       "3        11.42         20.38           77.58      386.1          0.14250   \n",
       "4        20.29         14.34          135.10     1297.0          0.10030   \n",
       "\n",
       "   mean compactness  mean concavity  mean concave points  mean symmetry  \\\n",
       "0           0.27760          0.3001              0.14710         0.2419   \n",
       "1           0.07864          0.0869              0.07017         0.1812   \n",
       "2           0.15990          0.1974              0.12790         0.2069   \n",
       "3           0.28390          0.2414              0.10520         0.2597   \n",
       "4           0.13280          0.1980              0.10430         0.1809   \n",
       "\n",
       "   mean fractal dimension  ...  worst texture  worst perimeter  worst area  \\\n",
       "0                 0.07871  ...          17.33           184.60      2019.0   \n",
       "1                 0.05667  ...          23.41           158.80      1956.0   \n",
       "2                 0.05999  ...          25.53           152.50      1709.0   \n",
       "3                 0.09744  ...          26.50            98.87       567.7   \n",
       "4                 0.05883  ...          16.67           152.20      1575.0   \n",
       "\n",
       "   worst smoothness  worst compactness  worst concavity  worst concave points  \\\n",
       "0            0.1622             0.6656           0.7119                0.2654   \n",
       "1            0.1238             0.1866           0.2416                0.1860   \n",
       "2            0.1444             0.4245           0.4504                0.2430   \n",
       "3            0.2098             0.8663           0.6869                0.2575   \n",
       "4            0.1374             0.2050           0.4000                0.1625   \n",
       "\n",
       "   worst symmetry  worst fractal dimension  Cancer  \n",
       "0          0.4601                  0.11890       0  \n",
       "1          0.2750                  0.08902       0  \n",
       "2          0.3613                  0.08758       0  \n",
       "3          0.6638                  0.17300       0  \n",
       "4          0.2364                  0.07678       0  \n",
       "\n",
       "[5 rows x 31 columns]"
      ]
     },
     "execution_count": 10,
     "metadata": {},
     "output_type": "execute_result"
    }
   ],
   "source": [
    "frames = [df_feat, df_target]\n",
    "result = pd.concat(frames,axis=1)\n",
    "result.head()"
   ]
  },
  {
   "cell_type": "code",
   "execution_count": 11,
   "metadata": {},
   "outputs": [
    {
     "data": {
      "text/plain": [
       "<matplotlib.axes._subplots.AxesSubplot at 0xfdc6fc8>"
      ]
     },
     "execution_count": 11,
     "metadata": {},
     "output_type": "execute_result"
    },
    {
     "data": {
      "image/png": "[encoded data removed]",
      "text/plain": [
       "<Figure size 432x288 with 1 Axes>"
      ]
     },
     "metadata": {
      "needs_background": "light"
     },
     "output_type": "display_data"
    }
   ],
   "source": [
    "sns.scatterplot(x = 'mean area', y = 'mean smoothness', hue = 'Cancer', data = result )"
   ]
  },
  {
   "cell_type": "markdown",
   "metadata": {},
   "source": [
    "## Train Test Split"
   ]
  },
  {
   "cell_type": "code",
   "execution_count": 12,
   "metadata": {},
   "outputs": [],
   "source": [
    "from sklearn.model_selection import train_test_split"
   ]
  },
  {
   "cell_type": "code",
   "execution_count": 13,
   "metadata": {},
   "outputs": [],
   "source": [
    "X = df_feat\n",
    "y = df_target"
   ]
  },
  {
   "cell_type": "code",
   "execution_count": 14,
   "metadata": {},
   "outputs": [],
   "source": [
    "X_train, X_test, y_train, y_test = train_test_split(X, y, test_size=0.30, random_state=101)"
   ]
  },
  {
   "cell_type": "code",
   "execution_count": 15,
   "metadata": {},
   "outputs": [],
   "source": [
    "## SVM Model"
   ]
  },
  {
   "cell_type": "code",
   "execution_count": 16,
   "metadata": {},
   "outputs": [],
   "source": [
    "from sklearn.svm import SVC"
   ]
  },
  {
   "cell_type": "code",
   "execution_count": 17,
   "metadata": {},
   "outputs": [],
   "source": [
    "model = SVC()"
   ]
  },
  {
   "cell_type": "code",
   "execution_count": 18,
   "metadata": {},
   "outputs": [
    {
     "data": {
      "text/plain": [
       "SVC()"
      ]
     },
     "execution_count": 18,
     "metadata": {},
     "output_type": "execute_result"
    }
   ],
   "source": [
    "model.fit(X_train,y_train)"
   ]
  },
  {
   "cell_type": "code",
   "execution_count": 19,
   "metadata": {},
   "outputs": [],
   "source": [
    "y_pred = model.predict(X_test)"
   ]
  },
  {
   "cell_type": "code",
   "execution_count": 20,
   "metadata": {},
   "outputs": [],
   "source": [
    "from sklearn.metrics import classification_report,confusion_matrix"
   ]
  },
  {
   "cell_type": "code",
   "execution_count": 21,
   "metadata": {},
   "outputs": [],
   "source": [
    "cnf_matrix = confusion_matrix(y_test,y_pred)"
   ]
  },
  {
   "cell_type": "code",
   "execution_count": 22,
   "metadata": {},
   "outputs": [
    {
     "data": {
      "text/plain": [
       "array([[ 56,  10],\n",
       "       [  3, 102]], dtype=int64)"
      ]
     },
     "execution_count": 22,
     "metadata": {},
     "output_type": "execute_result"
    }
   ],
   "source": [
    "cnf_matrix"
   ]
  },
  {
   "cell_type": "code",
   "execution_count": 23,
   "metadata": {},
   "outputs": [
    {
     "data": {
      "text/plain": [
       "Text(0.5, 15.0, 'Predicted Label')"
      ]
     },
     "execution_count": 23,
     "metadata": {},
     "output_type": "execute_result"
    },
    {
     "data": {
      "image/png": "[encoded data removed]",
      "text/plain": [
       "<Figure size 432x288 with 2 Axes>"
      ]
     },
     "metadata": {
      "needs_background": "light"
     },
     "output_type": "display_data"
    }
   ],
   "source": [
    "sns.heatmap(cnf_matrix, annot=True, cmap=\"YlGnBu\",fmt='d')\n",
    "plt.ylabel('Actual Label')\n",
    "plt.xlabel('Predicted Label')\n"
   ]
  },
  {
   "cell_type": "code",
   "execution_count": 24,
   "metadata": {},
   "outputs": [
    {
     "name": "stdout",
     "output_type": "stream",
     "text": [
      "              precision    recall  f1-score   support\n",
      "\n",
      "           0       0.95      0.85      0.90        66\n",
      "           1       0.91      0.97      0.94       105\n",
      "\n",
      "    accuracy                           0.92       171\n",
      "   macro avg       0.93      0.91      0.92       171\n",
      "weighted avg       0.93      0.92      0.92       171\n",
      "\n"
     ]
    }
   ],
   "source": [
    "print(classification_report(y_test,y_pred))"
   ]
  },
  {
   "cell_type": "markdown",
   "metadata": {},
   "source": [
    "## Scaled Data"
   ]
  },
  {
   "cell_type": "code",
   "execution_count": 25,
   "metadata": {},
   "outputs": [],
   "source": [
    "from sklearn.preprocessing import scale, StandardScaler"
   ]
  },
  {
   "cell_type": "code",
   "execution_count": 26,
   "metadata": {},
   "outputs": [],
   "source": [
    "sc = StandardScaler()\n",
    "X_train_s = sc.fit_transform(X_train)\n",
    "X_test_s = sc.transform(X_test)"
   ]
  },
  {
   "cell_type": "code",
   "execution_count": 27,
   "metadata": {},
   "outputs": [],
   "source": [
    "svm_model = SVC().fit(X_train_s,y_train)"
   ]
  },
  {
   "cell_type": "code",
   "execution_count": 28,
   "metadata": {},
   "outputs": [],
   "source": [
    "y_pred = svm_model.predict(X_test_s)"
   ]
  },
  {
   "cell_type": "code",
   "execution_count": 29,
   "metadata": {},
   "outputs": [
    {
     "name": "stdout",
     "output_type": "stream",
     "text": [
      "[[ 64   2]\n",
      " [  1 104]]\n"
     ]
    }
   ],
   "source": [
    "cnf_matrix = confusion_matrix(y_test,y_pred)\n",
    "print(cnf_matrix)"
   ]
  },
  {
   "cell_type": "code",
   "execution_count": 30,
   "metadata": {},
   "outputs": [
    {
     "data": {
      "text/plain": [
       "Text(0.5, 15.0, 'Predicted Label')"
      ]
     },
     "execution_count": 30,
     "metadata": {},
     "output_type": "execute_result"
    },
    {
     "data": {
      "image/png": "[encoded data removed]",
      "text/plain": [
       "<Figure size 432x288 with 2 Axes>"
      ]
     },
     "metadata": {
      "needs_background": "light"
     },
     "output_type": "display_data"
    }
   ],
   "source": [
    "sns.heatmap(cnf_matrix, annot=True, cmap=\"YlGnBu\",fmt='d')\n",
    "plt.ylabel('Actual Label')\n",
    "plt.xlabel('Predicted Label')"
   ]
  },
  {
   "cell_type": "code",
   "execution_count": 31,
   "metadata": {},
   "outputs": [
    {
     "name": "stdout",
     "output_type": "stream",
     "text": [
      "              precision    recall  f1-score   support\n",
      "\n",
      "           0       0.98      0.97      0.98        66\n",
      "           1       0.98      0.99      0.99       105\n",
      "\n",
      "    accuracy                           0.98       171\n",
      "   macro avg       0.98      0.98      0.98       171\n",
      "weighted avg       0.98      0.98      0.98       171\n",
      "\n"
     ]
    }
   ],
   "source": [
    "print(classification_report(y_test,y_pred))"
   ]
  },
  {
   "cell_type": "markdown",
   "metadata": {},
   "source": [
    "## Grid Search"
   ]
  },
  {
   "cell_type": "code",
   "execution_count": 32,
   "metadata": {},
   "outputs": [],
   "source": [
    "param_grid = {'C': [0.1,1, 10, 100, 1000], 'gamma': [1,0.1,0.01,0.001,0.0001], 'kernel': ['rbf']} "
   ]
  },
  {
   "cell_type": "code",
   "execution_count": 33,
   "metadata": {},
   "outputs": [],
   "source": [
    "from sklearn.model_selection import GridSearchCV"
   ]
  },
  {
   "cell_type": "code",
   "execution_count": 34,
   "metadata": {},
   "outputs": [],
   "source": [
    "grid = GridSearchCV(SVC(),param_grid,verbose=3,refit=True)"
   ]
  },
  {
   "cell_type": "code",
   "execution_count": 35,
   "metadata": {},
   "outputs": [
    {
     "name": "stdout",
     "output_type": "stream",
     "text": [
      "Fitting 5 folds for each of 25 candidates, totalling 125 fits\n",
      "[CV 1/5] END .....................C=0.1, gamma=1, kernel=rbf; total time=   0.0s\n",
      "[CV 2/5] END .....................C=0.1, gamma=1, kernel=rbf; total time=   0.0s\n",
      "[CV 3/5] END .....................C=0.1, gamma=1, kernel=rbf; total time=   0.0s\n",
      "[CV 4/5] END .....................C=0.1, gamma=1, kernel=rbf; total time=   0.0s\n",
      "[CV 5/5] END .....................C=0.1, gamma=1, kernel=rbf; total time=   0.0s\n",
      "[CV 1/5] END ...................C=0.1, gamma=0.1, kernel=rbf; total time=   0.0s\n",
      "[CV 2/5] END ...................C=0.1, gamma=0.1, kernel=rbf; total time=   0.0s\n",
      "[CV 3/5] END ...................C=0.1, gamma=0.1, kernel=rbf; total time=   0.1s\n",
      "[CV 4/5] END ...................C=0.1, gamma=0.1, kernel=rbf; total time=   0.0s\n",
      "[CV 5/5] END ...................C=0.1, gamma=0.1, kernel=rbf; total time=   0.0s\n",
      "[CV 1/5] END ..................C=0.1, gamma=0.01, kernel=rbf; total time=   0.0s\n",
      "[CV 2/5] END ..................C=0.1, gamma=0.01, kernel=rbf; total time=   0.0s\n",
      "[CV 3/5] END ..................C=0.1, gamma=0.01, kernel=rbf; total time=   0.1s\n",
      "[CV 4/5] END ..................C=0.1, gamma=0.01, kernel=rbf; total time=   0.0s\n",
      "[CV 5/5] END ..................C=0.1, gamma=0.01, kernel=rbf; total time=   0.0s\n",
      "[CV 1/5] END .................C=0.1, gamma=0.001, kernel=rbf; total time=   0.1s\n",
      "[CV 2/5] END .................C=0.1, gamma=0.001, kernel=rbf; total time=   0.0s\n",
      "[CV 3/5] END .................C=0.1, gamma=0.001, kernel=rbf; total time=   0.1s\n",
      "[CV 4/5] END .................C=0.1, gamma=0.001, kernel=rbf; total time=   0.0s\n",
      "[CV 5/5] END .................C=0.1, gamma=0.001, kernel=rbf; total time=   0.0s\n",
      "[CV 1/5] END ................C=0.1, gamma=0.0001, kernel=rbf; total time=   0.0s\n",
      "[CV 2/5] END ................C=0.1, gamma=0.0001, kernel=rbf; total time=   0.0s\n",
      "[CV 3/5] END ................C=0.1, gamma=0.0001, kernel=rbf; total time=   0.0s\n",
      "[CV 4/5] END ................C=0.1, gamma=0.0001, kernel=rbf; total time=   0.0s\n",
      "[CV 5/5] END ................C=0.1, gamma=0.0001, kernel=rbf; total time=   0.0s\n",
      "[CV 1/5] END .......................C=1, gamma=1, kernel=rbf; total time=   0.0s\n",
      "[CV 2/5] END .......................C=1, gamma=1, kernel=rbf; total time=   0.0s\n",
      "[CV 3/5] END .......................C=1, gamma=1, kernel=rbf; total time=   0.0s\n",
      "[CV 4/5] END .......................C=1, gamma=1, kernel=rbf; total time=   0.0s\n",
      "[CV 5/5] END .......................C=1, gamma=1, kernel=rbf; total time=   0.0s\n",
      "[CV 1/5] END .....................C=1, gamma=0.1, kernel=rbf; total time=   0.0s\n",
      "[CV 2/5] END .....................C=1, gamma=0.1, kernel=rbf; total time=   0.0s\n",
      "[CV 3/5] END .....................C=1, gamma=0.1, kernel=rbf; total time=   0.0s\n",
      "[CV 4/5] END .....................C=1, gamma=0.1, kernel=rbf; total time=   0.0s\n",
      "[CV 5/5] END .....................C=1, gamma=0.1, kernel=rbf; total time=   0.0s\n",
      "[CV 1/5] END ....................C=1, gamma=0.01, kernel=rbf; total time=   0.0s\n",
      "[CV 2/5] END ....................C=1, gamma=0.01, kernel=rbf; total time=   0.0s\n",
      "[CV 3/5] END ....................C=1, gamma=0.01, kernel=rbf; total time=   0.0s\n",
      "[CV 4/5] END ....................C=1, gamma=0.01, kernel=rbf; total time=   0.0s\n",
      "[CV 5/5] END ....................C=1, gamma=0.01, kernel=rbf; total time=   0.0s\n",
      "[CV 1/5] END ...................C=1, gamma=0.001, kernel=rbf; total time=   0.0s\n",
      "[CV 2/5] END ...................C=1, gamma=0.001, kernel=rbf; total time=   0.0s\n",
      "[CV 3/5] END ...................C=1, gamma=0.001, kernel=rbf; total time=   0.0s\n",
      "[CV 4/5] END ...................C=1, gamma=0.001, kernel=rbf; total time=   0.0s\n",
      "[CV 5/5] END ...................C=1, gamma=0.001, kernel=rbf; total time=   0.0s\n",
      "[CV 1/5] END ..................C=1, gamma=0.0001, kernel=rbf; total time=   0.0s\n",
      "[CV 2/5] END ..................C=1, gamma=0.0001, kernel=rbf; total time=   0.0s\n",
      "[CV 3/5] END ..................C=1, gamma=0.0001, kernel=rbf; total time=   0.0s\n",
      "[CV 4/5] END ..................C=1, gamma=0.0001, kernel=rbf; total time=   0.0s\n",
      "[CV 5/5] END ..................C=1, gamma=0.0001, kernel=rbf; total time=   0.0s\n",
      "[CV 1/5] END ......................C=10, gamma=1, kernel=rbf; total time=   0.0s\n",
      "[CV 2/5] END ......................C=10, gamma=1, kernel=rbf; total time=   0.0s\n",
      "[CV 3/5] END ......................C=10, gamma=1, kernel=rbf; total time=   0.0s\n",
      "[CV 4/5] END ......................C=10, gamma=1, kernel=rbf; total time=   0.0s\n",
      "[CV 5/5] END ......................C=10, gamma=1, kernel=rbf; total time=   0.0s\n",
      "[CV 1/5] END ....................C=10, gamma=0.1, kernel=rbf; total time=   0.0s\n",
      "[CV 2/5] END ....................C=10, gamma=0.1, kernel=rbf; total time=   0.0s\n",
      "[CV 3/5] END ....................C=10, gamma=0.1, kernel=rbf; total time=   0.0s\n",
      "[CV 4/5] END ....................C=10, gamma=0.1, kernel=rbf; total time=   0.0s\n",
      "[CV 5/5] END ....................C=10, gamma=0.1, kernel=rbf; total time=   0.0s\n",
      "[CV 1/5] END ...................C=10, gamma=0.01, kernel=rbf; total time=   0.0s\n",
      "[CV 2/5] END ...................C=10, gamma=0.01, kernel=rbf; total time=   0.0s\n",
      "[CV 3/5] END ...................C=10, gamma=0.01, kernel=rbf; total time=   0.0s\n",
      "[CV 4/5] END ...................C=10, gamma=0.01, kernel=rbf; total time=   0.0s\n",
      "[CV 5/5] END ...................C=10, gamma=0.01, kernel=rbf; total time=   0.0s\n",
      "[CV 1/5] END ..................C=10, gamma=0.001, kernel=rbf; total time=   0.0s\n",
      "[CV 2/5] END ..................C=10, gamma=0.001, kernel=rbf; total time=   0.0s\n",
      "[CV 3/5] END ..................C=10, gamma=0.001, kernel=rbf; total time=   0.0s\n",
      "[CV 4/5] END ..................C=10, gamma=0.001, kernel=rbf; total time=   0.0s\n",
      "[CV 5/5] END ..................C=10, gamma=0.001, kernel=rbf; total time=   0.0s\n",
      "[CV 1/5] END .................C=10, gamma=0.0001, kernel=rbf; total time=   0.0s\n",
      "[CV 2/5] END .................C=10, gamma=0.0001, kernel=rbf; total time=   0.0s\n",
      "[CV 3/5] END .................C=10, gamma=0.0001, kernel=rbf; total time=   0.0s\n",
      "[CV 4/5] END .................C=10, gamma=0.0001, kernel=rbf; total time=   0.0s\n",
      "[CV 5/5] END .................C=10, gamma=0.0001, kernel=rbf; total time=   0.0s\n",
      "[CV 1/5] END .....................C=100, gamma=1, kernel=rbf; total time=   0.0s\n",
      "[CV 2/5] END .....................C=100, gamma=1, kernel=rbf; total time=   0.0s\n",
      "[CV 3/5] END .....................C=100, gamma=1, kernel=rbf; total time=   0.0s\n",
      "[CV 4/5] END .....................C=100, gamma=1, kernel=rbf; total time=   0.0s\n",
      "[CV 5/5] END .....................C=100, gamma=1, kernel=rbf; total time=   0.0s\n",
      "[CV 1/5] END ...................C=100, gamma=0.1, kernel=rbf; total time=   0.0s\n",
      "[CV 2/5] END ...................C=100, gamma=0.1, kernel=rbf; total time=   0.0s\n",
      "[CV 3/5] END ...................C=100, gamma=0.1, kernel=rbf; total time=   0.0s\n",
      "[CV 4/5] END ...................C=100, gamma=0.1, kernel=rbf; total time=   0.0s\n",
      "[CV 5/5] END ...................C=100, gamma=0.1, kernel=rbf; total time=   0.0s\n",
      "[CV 1/5] END ..................C=100, gamma=0.01, kernel=rbf; total time=   0.0s\n",
      "[CV 2/5] END ..................C=100, gamma=0.01, kernel=rbf; total time=   0.0s\n",
      "[CV 3/5] END ..................C=100, gamma=0.01, kernel=rbf; total time=   0.0s\n",
      "[CV 4/5] END ..................C=100, gamma=0.01, kernel=rbf; total time=   0.0s\n",
      "[CV 5/5] END ..................C=100, gamma=0.01, kernel=rbf; total time=   0.0s\n",
      "[CV 1/5] END .................C=100, gamma=0.001, kernel=rbf; total time=   0.0s\n",
      "[CV 2/5] END .................C=100, gamma=0.001, kernel=rbf; total time=   0.0s\n",
      "[CV 3/5] END .................C=100, gamma=0.001, kernel=rbf; total time=   0.0s\n",
      "[CV 4/5] END .................C=100, gamma=0.001, kernel=rbf; total time=   0.0s\n",
      "[CV 5/5] END .................C=100, gamma=0.001, kernel=rbf; total time=   0.0s\n",
      "[CV 1/5] END ................C=100, gamma=0.0001, kernel=rbf; total time=   0.0s\n",
      "[CV 2/5] END ................C=100, gamma=0.0001, kernel=rbf; total time=   0.0s\n",
      "[CV 3/5] END ................C=100, gamma=0.0001, kernel=rbf; total time=   0.0s\n",
      "[CV 4/5] END ................C=100, gamma=0.0001, kernel=rbf; total time=   0.0s\n",
      "[CV 5/5] END ................C=100, gamma=0.0001, kernel=rbf; total time=   0.0s\n",
      "[CV 1/5] END ....................C=1000, gamma=1, kernel=rbf; total time=   0.0s\n"
     ]
    },
    {
     "name": "stdout",
     "output_type": "stream",
     "text": [
      "[CV 2/5] END ....................C=1000, gamma=1, kernel=rbf; total time=   0.0s\n",
      "[CV 3/5] END ....................C=1000, gamma=1, kernel=rbf; total time=   0.0s\n",
      "[CV 4/5] END ....................C=1000, gamma=1, kernel=rbf; total time=   0.0s\n",
      "[CV 5/5] END ....................C=1000, gamma=1, kernel=rbf; total time=   0.0s\n",
      "[CV 1/5] END ..................C=1000, gamma=0.1, kernel=rbf; total time=   0.0s\n",
      "[CV 2/5] END ..................C=1000, gamma=0.1, kernel=rbf; total time=   0.0s\n",
      "[CV 3/5] END ..................C=1000, gamma=0.1, kernel=rbf; total time=   0.0s\n",
      "[CV 4/5] END ..................C=1000, gamma=0.1, kernel=rbf; total time=   0.0s\n",
      "[CV 5/5] END ..................C=1000, gamma=0.1, kernel=rbf; total time=   0.0s\n",
      "[CV 1/5] END .................C=1000, gamma=0.01, kernel=rbf; total time=   0.0s\n",
      "[CV 2/5] END .................C=1000, gamma=0.01, kernel=rbf; total time=   0.0s\n",
      "[CV 3/5] END .................C=1000, gamma=0.01, kernel=rbf; total time=   0.0s\n",
      "[CV 4/5] END .................C=1000, gamma=0.01, kernel=rbf; total time=   0.0s\n",
      "[CV 5/5] END .................C=1000, gamma=0.01, kernel=rbf; total time=   0.0s\n",
      "[CV 1/5] END ................C=1000, gamma=0.001, kernel=rbf; total time=   0.0s\n",
      "[CV 2/5] END ................C=1000, gamma=0.001, kernel=rbf; total time=   0.0s\n",
      "[CV 3/5] END ................C=1000, gamma=0.001, kernel=rbf; total time=   0.0s\n",
      "[CV 4/5] END ................C=1000, gamma=0.001, kernel=rbf; total time=   0.0s\n",
      "[CV 5/5] END ................C=1000, gamma=0.001, kernel=rbf; total time=   0.0s\n",
      "[CV 1/5] END ...............C=1000, gamma=0.0001, kernel=rbf; total time=   0.0s\n",
      "[CV 2/5] END ...............C=1000, gamma=0.0001, kernel=rbf; total time=   0.0s\n",
      "[CV 3/5] END ...............C=1000, gamma=0.0001, kernel=rbf; total time=   0.0s\n",
      "[CV 4/5] END ...............C=1000, gamma=0.0001, kernel=rbf; total time=   0.0s\n",
      "[CV 5/5] END ...............C=1000, gamma=0.0001, kernel=rbf; total time=   0.0s\n"
     ]
    },
    {
     "data": {
      "text/plain": [
       "GridSearchCV(estimator=SVC(),\n",
       "             param_grid={'C': [0.1, 1, 10, 100, 1000],\n",
       "                         'gamma': [1, 0.1, 0.01, 0.001, 0.0001],\n",
       "                         'kernel': ['rbf']},\n",
       "             verbose=3)"
      ]
     },
     "execution_count": 35,
     "metadata": {},
     "output_type": "execute_result"
    }
   ],
   "source": [
    "grid.fit(X_train_s,y_train)"
   ]
  },
  {
   "cell_type": "code",
   "execution_count": 36,
   "metadata": {},
   "outputs": [
    {
     "data": {
      "text/plain": [
       "{'C': 10, 'gamma': 0.001, 'kernel': 'rbf'}"
      ]
     },
     "execution_count": 36,
     "metadata": {},
     "output_type": "execute_result"
    }
   ],
   "source": [
    "grid.best_params_"
   ]
  },
  {
   "cell_type": "code",
   "execution_count": 37,
   "metadata": {},
   "outputs": [
    {
     "data": {
      "text/plain": [
       "SVC(C=10, gamma=0.001)"
      ]
     },
     "execution_count": 37,
     "metadata": {},
     "output_type": "execute_result"
    }
   ],
   "source": [
    "grid.best_estimator_"
   ]
  },
  {
   "cell_type": "code",
   "execution_count": 38,
   "metadata": {},
   "outputs": [],
   "source": [
    "grid_pred = grid.predict(X_test_s)"
   ]
  },
  {
   "cell_type": "code",
   "execution_count": 39,
   "metadata": {},
   "outputs": [],
   "source": [
    "cnf_matrix = confusion_matrix(y_test,grid_pred)"
   ]
  },
  {
   "cell_type": "code",
   "execution_count": 40,
   "metadata": {},
   "outputs": [
    {
     "name": "stdout",
     "output_type": "stream",
     "text": [
      "[[ 60   6]\n",
      " [  0 105]]\n"
     ]
    }
   ],
   "source": [
    "print(cnf_matrix)"
   ]
  },
  {
   "cell_type": "code",
   "execution_count": 41,
   "metadata": {},
   "outputs": [
    {
     "data": {
      "text/plain": [
       "Text(0.5, 15.0, 'Predicted Label')"
      ]
     },
     "execution_count": 41,
     "metadata": {},
     "output_type": "execute_result"
    },
    {
     "data": {
      "image/png": "[encoded data removed]",
      "text/plain": [
       "<Figure size 432x288 with 2 Axes>"
      ]
     },
     "metadata": {
      "needs_background": "light"
     },
     "output_type": "display_data"
    }
   ],
   "source": [
    "sns.heatmap(cnf_matrix, annot=True, cmap=\"YlGnBu\",fmt='d')\n",
    "plt.ylabel('Actual Label')\n",
    "plt.xlabel('Predicted Label')"
   ]
  },
  {
   "cell_type": "code",
   "execution_count": 42,
   "metadata": {},
   "outputs": [
    {
     "name": "stdout",
     "output_type": "stream",
     "text": [
      "              precision    recall  f1-score   support\n",
      "\n",
      "           0       1.00      0.91      0.95        66\n",
      "           1       0.95      1.00      0.97       105\n",
      "\n",
      "    accuracy                           0.96       171\n",
      "   macro avg       0.97      0.95      0.96       171\n",
      "weighted avg       0.97      0.96      0.96       171\n",
      "\n"
     ]
    }
   ],
   "source": [
    "print(classification_report(y_test,grid_pred))"
   ]
  }
 ],
 "metadata": {
  "kernelspec": {
   "display_name": "Python 3",
   "language": "python",
   "name": "python3"
  },
  "language_info": {
   "codemirror_mode": {
    "name": "ipython",
    "version": 3
   },
   "file_extension": ".py",
   "mimetype": "text/x-python",
   "name": "python",
   "nbconvert_exporter": "python",
   "pygments_lexer": "ipython3",
   "version": "3.7.6"
  }
 },
 "nbformat": 4,
 "nbformat_minor": 4
}
